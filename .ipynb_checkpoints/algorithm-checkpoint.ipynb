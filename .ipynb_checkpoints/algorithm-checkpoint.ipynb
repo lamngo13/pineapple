{
 "cells": [
  {
   "cell_type": "code",
   "execution_count": 13,
   "id": "7695b7c2",
   "metadata": {},
   "outputs": [
    {
     "name": "stdout",
     "output_type": "stream",
     "text": [
      "Empty DataFrame\n",
      "Columns: [{'audio_features': [{'genre': Rap,  'danceability': 0.543,  'energy': 0.974,  'key': 0,  'loudness': -6.525,  'mode': 1,  'speechiness': 0.0639,  'acousticness': 0.000735,  'instrumentalness': 0.92,  'liveness': 0.219,  'valence': 0.463,  'tempo': 170.001,  'type': 'audio_features',  'id': '17vJ4JDM5nsU4jxZgl1QSR',  'uri': 'spotify:track:17vJ4JDM5nsU4jxZgl1QSR',  'track_href': 'https://api.spotify.com/v1/tracks/17vJ4JDM5nsU4jxZgl1QSR',  'analysis_url': 'https://api.spotify.com/v1/audio-analysis/17vJ4JDM5nsU4jxZgl1QSR',  'duration_ms': 196235,  'time_signature': 4},  {'genre': Rap,  'danceability': 0.671,  'energy': 0.73,  'key': 7,  'loudness': -7.189,  'mode': 1.1,  'speechiness': 0.29,  'acousticness': 0.414,  'instrumentalness': 0,  'liveness': 0.107,  'valence': 0.248,  'tempo': 99.971,  'type': 'audio_features'.1,  'id': '3pzkWSjCdHKdzNEljKI4gz',  'uri': 'spotify:track:3pzkWSjCdHKdzNEljKI4gz',  'track_href': 'https://api.spotify.com/v1/tracks/3pzkWSjCdHKdzNEljKI4gz',  'analysis_url': 'https://api.spotify.com/v1/audio-analysis/3pzkWSjCdHKdzNEljKI4gz',  'duration_ms': 160800,  'time_signature': 4}.1,  {'genre': Rap.1,  'danceability': 0.767,  'energy': 0.444,  'key': 3,  'loudness': -13.671,  'mode': 1.2,  'speechiness': 0.557,  'acousticness': 0.941,  'instrumentalness': 0.000236,  'liveness': 0.144,  'valence': 0.527,  'tempo': 80.181,  'type': 'audio_features'.2,  'id': '7i6jHKsAShYpPTN4kS4WBW',  'uri': 'spotify:track:7i6jHKsAShYpPTN4kS4WBW',  'track_href': 'https://api.spotify.com/v1/tracks/7i6jHKsAShYpPTN4kS4WBW',  'analysis_url': 'https://api.spotify.com/v1/audio-analysis/7i6jHKsAShYpPTN4kS4WBW',  'duration_ms': 168066,  'time_signature': 4}.2,  {'genre': Rap.2,  'danceability': 0.858,  'energy': 0.339,  'key': 10,  'loudness': -15.847,  'mode': 0,  'speechiness': 0.0808,  'acousticness': 0.0558,  'instrumentalness': 0.297,  'liveness': 0.119,  'valence': 0.194,  'tempo': 158.968,  'type': 'audio_features'.3,  'id': '1Bt9doNZTAw34cuW2FxaZW',  'uri': 'spotify:track:1Bt9doNZTAw34cuW2FxaZW',  'track_href': 'https://api.spotify.com/v1/tracks/1Bt9doNZTAw34cuW2FxaZW',  'analysis_url': 'https://api.spotify.com/v1/audio-analysis/1Bt9doNZTAw34cuW2FxaZW',  'duration_ms': 193242,  'time_signature': 4}.3,  {'genre': Rap.3,  'danceability': 0.794,  'energy': 0.258,  'key': 8,  'loudness': -17.258,  'mode': 0.1,  'speechiness': 0.432,  'acousticness': 0.456,  'instrumentalness': 1.15e-05,  'liveness': 0.0848,  'valence': 0.393,  'tempo': 50.047,  'type': 'audio_features'.4,  'id': '6BjmeqZw3N9etV8Oa2CkH1',  'uri': 'spotify:track:6BjmeqZw3N9etV8Oa2CkH1',  'track_href': 'https://api.spotify.com/v1/tracks/6BjmeqZw3N9etV8Oa2CkH1',  'analysis_url': 'https://api.spotify.com/v1/audio-analysis/6BjmeqZw3N9etV8Oa2CkH1',  'duration_ms': 71444,  'time_signature': 4}.4,  {'genre': Rap.4,  'danceability': 0.561,  'energy': 0.402,  'key': 4,  'loudness': -13.542, ...]\n",
      "Index: []\n",
      "\n",
      "[0 rows x 380 columns]\n",
      "Empty DataFrame\n",
      "Columns: []\n",
      "Index: []\n"
     ]
    }
   ],
   "source": []
  },
  {
   "cell_type": "code",
   "execution_count": 14,
   "id": "43083219",
   "metadata": {},
   "outputs": [
    {
     "ename": "JSONDecodeError",
     "evalue": "Expecting property name enclosed in double quotes: line 1 column 2 (char 1)",
     "output_type": "error",
     "traceback": [
      "\u001b[1;31m---------------------------------------------------------------------------\u001b[0m",
      "\u001b[1;31mJSONDecodeError\u001b[0m                           Traceback (most recent call last)",
      "Input \u001b[1;32mIn [14]\u001b[0m, in \u001b[0;36m<cell line: 8>\u001b[1;34m()\u001b[0m\n\u001b[0;32m      7\u001b[0m \u001b[38;5;66;03m# Load data from a JSON file\u001b[39;00m\n\u001b[0;32m      8\u001b[0m \u001b[38;5;28;01mwith\u001b[39;00m \u001b[38;5;28mopen\u001b[39m(\u001b[38;5;124m'\u001b[39m\u001b[38;5;124mshoob.json\u001b[39m\u001b[38;5;124m'\u001b[39m, \u001b[38;5;124m'\u001b[39m\u001b[38;5;124mr\u001b[39m\u001b[38;5;124m'\u001b[39m) \u001b[38;5;28;01mas\u001b[39;00m f:\n\u001b[1;32m----> 9\u001b[0m     data \u001b[38;5;241m=\u001b[39m \u001b[43mjson\u001b[49m\u001b[38;5;241;43m.\u001b[39;49m\u001b[43mload\u001b[49m\u001b[43m(\u001b[49m\u001b[43mf\u001b[49m\u001b[43m)\u001b[49m\n\u001b[0;32m     11\u001b[0m \u001b[38;5;66;03m# Convert data to a DataFrame\u001b[39;00m\n\u001b[0;32m     12\u001b[0m df \u001b[38;5;241m=\u001b[39m pd\u001b[38;5;241m.\u001b[39mDataFrame(data)\n",
      "File \u001b[1;32mC:\\Users\\Anaconda3\\lib\\json\\__init__.py:293\u001b[0m, in \u001b[0;36mload\u001b[1;34m(fp, cls, object_hook, parse_float, parse_int, parse_constant, object_pairs_hook, **kw)\u001b[0m\n\u001b[0;32m    274\u001b[0m \u001b[38;5;28;01mdef\u001b[39;00m \u001b[38;5;21mload\u001b[39m(fp, \u001b[38;5;241m*\u001b[39m, \u001b[38;5;28mcls\u001b[39m\u001b[38;5;241m=\u001b[39m\u001b[38;5;28;01mNone\u001b[39;00m, object_hook\u001b[38;5;241m=\u001b[39m\u001b[38;5;28;01mNone\u001b[39;00m, parse_float\u001b[38;5;241m=\u001b[39m\u001b[38;5;28;01mNone\u001b[39;00m,\n\u001b[0;32m    275\u001b[0m         parse_int\u001b[38;5;241m=\u001b[39m\u001b[38;5;28;01mNone\u001b[39;00m, parse_constant\u001b[38;5;241m=\u001b[39m\u001b[38;5;28;01mNone\u001b[39;00m, object_pairs_hook\u001b[38;5;241m=\u001b[39m\u001b[38;5;28;01mNone\u001b[39;00m, \u001b[38;5;241m*\u001b[39m\u001b[38;5;241m*\u001b[39mkw):\n\u001b[0;32m    276\u001b[0m     \u001b[38;5;124;03m\"\"\"Deserialize ``fp`` (a ``.read()``-supporting file-like object containing\u001b[39;00m\n\u001b[0;32m    277\u001b[0m \u001b[38;5;124;03m    a JSON document) to a Python object.\u001b[39;00m\n\u001b[0;32m    278\u001b[0m \n\u001b[1;32m   (...)\u001b[0m\n\u001b[0;32m    291\u001b[0m \u001b[38;5;124;03m    kwarg; otherwise ``JSONDecoder`` is used.\u001b[39;00m\n\u001b[0;32m    292\u001b[0m \u001b[38;5;124;03m    \"\"\"\u001b[39;00m\n\u001b[1;32m--> 293\u001b[0m     \u001b[38;5;28;01mreturn\u001b[39;00m loads(fp\u001b[38;5;241m.\u001b[39mread(),\n\u001b[0;32m    294\u001b[0m         \u001b[38;5;28mcls\u001b[39m\u001b[38;5;241m=\u001b[39m\u001b[38;5;28mcls\u001b[39m, object_hook\u001b[38;5;241m=\u001b[39mobject_hook,\n\u001b[0;32m    295\u001b[0m         parse_float\u001b[38;5;241m=\u001b[39mparse_float, parse_int\u001b[38;5;241m=\u001b[39mparse_int,\n\u001b[0;32m    296\u001b[0m         parse_constant\u001b[38;5;241m=\u001b[39mparse_constant, object_pairs_hook\u001b[38;5;241m=\u001b[39mobject_pairs_hook, \u001b[38;5;241m*\u001b[39m\u001b[38;5;241m*\u001b[39mkw)\n",
      "File \u001b[1;32mC:\\Users\\Anaconda3\\lib\\json\\__init__.py:346\u001b[0m, in \u001b[0;36mloads\u001b[1;34m(s, cls, object_hook, parse_float, parse_int, parse_constant, object_pairs_hook, **kw)\u001b[0m\n\u001b[0;32m    341\u001b[0m     s \u001b[38;5;241m=\u001b[39m s\u001b[38;5;241m.\u001b[39mdecode(detect_encoding(s), \u001b[38;5;124m'\u001b[39m\u001b[38;5;124msurrogatepass\u001b[39m\u001b[38;5;124m'\u001b[39m)\n\u001b[0;32m    343\u001b[0m \u001b[38;5;28;01mif\u001b[39;00m (\u001b[38;5;28mcls\u001b[39m \u001b[38;5;129;01mis\u001b[39;00m \u001b[38;5;28;01mNone\u001b[39;00m \u001b[38;5;129;01mand\u001b[39;00m object_hook \u001b[38;5;129;01mis\u001b[39;00m \u001b[38;5;28;01mNone\u001b[39;00m \u001b[38;5;129;01mand\u001b[39;00m\n\u001b[0;32m    344\u001b[0m         parse_int \u001b[38;5;129;01mis\u001b[39;00m \u001b[38;5;28;01mNone\u001b[39;00m \u001b[38;5;129;01mand\u001b[39;00m parse_float \u001b[38;5;129;01mis\u001b[39;00m \u001b[38;5;28;01mNone\u001b[39;00m \u001b[38;5;129;01mand\u001b[39;00m\n\u001b[0;32m    345\u001b[0m         parse_constant \u001b[38;5;129;01mis\u001b[39;00m \u001b[38;5;28;01mNone\u001b[39;00m \u001b[38;5;129;01mand\u001b[39;00m object_pairs_hook \u001b[38;5;129;01mis\u001b[39;00m \u001b[38;5;28;01mNone\u001b[39;00m \u001b[38;5;129;01mand\u001b[39;00m \u001b[38;5;129;01mnot\u001b[39;00m kw):\n\u001b[1;32m--> 346\u001b[0m     \u001b[38;5;28;01mreturn\u001b[39;00m \u001b[43m_default_decoder\u001b[49m\u001b[38;5;241;43m.\u001b[39;49m\u001b[43mdecode\u001b[49m\u001b[43m(\u001b[49m\u001b[43ms\u001b[49m\u001b[43m)\u001b[49m\n\u001b[0;32m    347\u001b[0m \u001b[38;5;28;01mif\u001b[39;00m \u001b[38;5;28mcls\u001b[39m \u001b[38;5;129;01mis\u001b[39;00m \u001b[38;5;28;01mNone\u001b[39;00m:\n\u001b[0;32m    348\u001b[0m     \u001b[38;5;28mcls\u001b[39m \u001b[38;5;241m=\u001b[39m JSONDecoder\n",
      "File \u001b[1;32mC:\\Users\\Anaconda3\\lib\\json\\decoder.py:337\u001b[0m, in \u001b[0;36mJSONDecoder.decode\u001b[1;34m(self, s, _w)\u001b[0m\n\u001b[0;32m    332\u001b[0m \u001b[38;5;28;01mdef\u001b[39;00m \u001b[38;5;21mdecode\u001b[39m(\u001b[38;5;28mself\u001b[39m, s, _w\u001b[38;5;241m=\u001b[39mWHITESPACE\u001b[38;5;241m.\u001b[39mmatch):\n\u001b[0;32m    333\u001b[0m     \u001b[38;5;124;03m\"\"\"Return the Python representation of ``s`` (a ``str`` instance\u001b[39;00m\n\u001b[0;32m    334\u001b[0m \u001b[38;5;124;03m    containing a JSON document).\u001b[39;00m\n\u001b[0;32m    335\u001b[0m \n\u001b[0;32m    336\u001b[0m \u001b[38;5;124;03m    \"\"\"\u001b[39;00m\n\u001b[1;32m--> 337\u001b[0m     obj, end \u001b[38;5;241m=\u001b[39m \u001b[38;5;28;43mself\u001b[39;49m\u001b[38;5;241;43m.\u001b[39;49m\u001b[43mraw_decode\u001b[49m\u001b[43m(\u001b[49m\u001b[43ms\u001b[49m\u001b[43m,\u001b[49m\u001b[43m \u001b[49m\u001b[43midx\u001b[49m\u001b[38;5;241;43m=\u001b[39;49m\u001b[43m_w\u001b[49m\u001b[43m(\u001b[49m\u001b[43ms\u001b[49m\u001b[43m,\u001b[49m\u001b[43m \u001b[49m\u001b[38;5;241;43m0\u001b[39;49m\u001b[43m)\u001b[49m\u001b[38;5;241;43m.\u001b[39;49m\u001b[43mend\u001b[49m\u001b[43m(\u001b[49m\u001b[43m)\u001b[49m\u001b[43m)\u001b[49m\n\u001b[0;32m    338\u001b[0m     end \u001b[38;5;241m=\u001b[39m _w(s, end)\u001b[38;5;241m.\u001b[39mend()\n\u001b[0;32m    339\u001b[0m     \u001b[38;5;28;01mif\u001b[39;00m end \u001b[38;5;241m!=\u001b[39m \u001b[38;5;28mlen\u001b[39m(s):\n",
      "File \u001b[1;32mC:\\Users\\Anaconda3\\lib\\json\\decoder.py:353\u001b[0m, in \u001b[0;36mJSONDecoder.raw_decode\u001b[1;34m(self, s, idx)\u001b[0m\n\u001b[0;32m    344\u001b[0m \u001b[38;5;124;03m\"\"\"Decode a JSON document from ``s`` (a ``str`` beginning with\u001b[39;00m\n\u001b[0;32m    345\u001b[0m \u001b[38;5;124;03ma JSON document) and return a 2-tuple of the Python\u001b[39;00m\n\u001b[0;32m    346\u001b[0m \u001b[38;5;124;03mrepresentation and the index in ``s`` where the document ended.\u001b[39;00m\n\u001b[1;32m   (...)\u001b[0m\n\u001b[0;32m    350\u001b[0m \n\u001b[0;32m    351\u001b[0m \u001b[38;5;124;03m\"\"\"\u001b[39;00m\n\u001b[0;32m    352\u001b[0m \u001b[38;5;28;01mtry\u001b[39;00m:\n\u001b[1;32m--> 353\u001b[0m     obj, end \u001b[38;5;241m=\u001b[39m \u001b[38;5;28;43mself\u001b[39;49m\u001b[38;5;241;43m.\u001b[39;49m\u001b[43mscan_once\u001b[49m\u001b[43m(\u001b[49m\u001b[43ms\u001b[49m\u001b[43m,\u001b[49m\u001b[43m \u001b[49m\u001b[43midx\u001b[49m\u001b[43m)\u001b[49m\n\u001b[0;32m    354\u001b[0m \u001b[38;5;28;01mexcept\u001b[39;00m \u001b[38;5;167;01mStopIteration\u001b[39;00m \u001b[38;5;28;01mas\u001b[39;00m err:\n\u001b[0;32m    355\u001b[0m     \u001b[38;5;28;01mraise\u001b[39;00m JSONDecodeError(\u001b[38;5;124m\"\u001b[39m\u001b[38;5;124mExpecting value\u001b[39m\u001b[38;5;124m\"\u001b[39m, s, err\u001b[38;5;241m.\u001b[39mvalue) \u001b[38;5;28;01mfrom\u001b[39;00m \u001b[38;5;28mNone\u001b[39m\n",
      "\u001b[1;31mJSONDecodeError\u001b[0m: Expecting property name enclosed in double quotes: line 1 column 2 (char 1)"
     ]
    }
   ],
   "source": [
    "import json\n",
    "import pandas as pd\n",
    "from sklearn.model_selection import train_test_split\n",
    "from sklearn.tree import DecisionTreeClassifier\n",
    "from sklearn.metrics import accuracy_score\n",
    "\n",
    "# Load data from a JSON file\n",
    "with open('shoob.json', 'r') as f:\n",
    "    data = json.load(f)\n",
    "\n",
    "# Convert data to a DataFrame\n",
    "df = pd.DataFrame(data)\n",
    "\n",
    "# Split the data into training and testing sets\n",
    "X_train, X_test, y_train, y_test = train_test_split(df[['acousticness', 'danceability', 'duration_ms', 'energy',\n",
    "                                                         'instrumentalness', 'key', 'liveness', 'loudness',\n",
    "                                                         'mode', 'speechiness', 'tempo', 'time_signature',\n",
    "                                                         'valence']], df['genre'], test_size=0.2)\n",
    "\n",
    "# Train a decision tree classifier on the training data\n",
    "clf = DecisionTreeClassifier()\n",
    "clf.fit(X_train, y_train)\n",
    "\n",
    "# Make predictions on the test data\n",
    "y_pred = clf.predict(X_test)\n",
    "\n",
    "# Evaluate the accuracy of the classifier\n",
    "accuracy = accuracy_score(y_test, y_pred)\n",
    "print('Accuracy:', accuracy)"
   ]
  },
  {
   "cell_type": "code",
   "execution_count": 12,
   "id": "c7560728",
   "metadata": {},
   "outputs": [
    {
     "name": "stdout",
     "output_type": "stream",
     "text": [
      "Empty DataFrame\n",
      "Columns: []\n",
      "Index: []\n"
     ]
    },
    {
     "ename": "TypeError",
     "evalue": "'DictReader' object is not subscriptable",
     "output_type": "error",
     "traceback": [
      "\u001b[1;31m---------------------------------------------------------------------------\u001b[0m",
      "\u001b[1;31mTypeError\u001b[0m                                 Traceback (most recent call last)",
      "Input \u001b[1;32mIn [12]\u001b[0m, in \u001b[0;36m<cell line: 59>\u001b[1;34m()\u001b[0m\n\u001b[0;32m     56\u001b[0m df \u001b[38;5;241m=\u001b[39m pd\u001b[38;5;241m.\u001b[39mDataFrame(data1)\n\u001b[0;32m     57\u001b[0m \u001b[38;5;28mprint\u001b[39m(df)\n\u001b[1;32m---> 59\u001b[0m \u001b[38;5;28mprint\u001b[39m(\u001b[43mreader\u001b[49m\u001b[43m[\u001b[49m\u001b[38;5;124;43m'\u001b[39;49m\u001b[38;5;124;43mtempo\u001b[39;49m\u001b[38;5;124;43m'\u001b[39;49m\u001b[43m]\u001b[49m)\n",
      "\u001b[1;31mTypeError\u001b[0m: 'DictReader' object is not subscriptable"
     ]
    }
   ],
   "source": [
    "import pandas as pd\n",
    "import csv\n",
    "\n",
    "data = []\n",
    "with open('ayyo.csv') as csvfile:\n",
    "    reader = csv.DictReader(csvfile)\n",
    "    for row in reader:\n",
    "        data.append({\n",
    "            'genre': row['genre'],\n",
    "            'danceability': float(row['danceability']),\n",
    "            'energy': float(row['energy']),\n",
    "            'key': int(row['key']),\n",
    "            'loudness': float(row['loudness']),\n",
    "            'mode': int(row['mode']),\n",
    "            'speechiness': float(row['speechiness']),\n",
    "            'acousticness': float(row['acousticness']),\n",
    "            'instrumentalness': float(row['instrumentalness']),\n",
    "            'liveness': float(row['liveness']),\n",
    "            'valence': float(row['valence']),\n",
    "            'tempo': float(row['tempo']),\n",
    "            'type': row['type'],\n",
    "            'id': row['id'],\n",
    "            'uri': row['uri'],\n",
    "            'track_href': row['track_href'],\n",
    "            'analysis_url': row['analysis_url'],\n",
    "            'duration_ms': int(row['duration_ms']),\n",
    "            'time_signature': int(row['time_signature'])\n",
    "        })\n",
    "        \n",
    "data1 = []\n",
    "with open('ayyo.csv') as csvfile:\n",
    "    reader = csv.DictReader(csvfile)\n",
    "    for row in reader:\n",
    "        data1.append({\n",
    "            'genre': row['genre'],\n",
    "            'danceability': float(row['danceability']),\n",
    "            'energy': float(row['energy']),\n",
    "            'key': int(row['key']),\n",
    "            'loudness': float(row['loudness']),\n",
    "            'mode': int(row['mode']),\n",
    "            'speechiness': float(row['speechiness']),\n",
    "            'acousticness': float(row['acousticness']),\n",
    "            'instrumentalness': float(row['instrumentalness']),\n",
    "            'liveness': float(row['liveness']),\n",
    "            'valence': float(row['valence']),\n",
    "            'tempo': float(row['tempo']),\n",
    "            'type': row['type'],\n",
    "            'id': row['id'],\n",
    "            'uri': row['uri'],\n",
    "            'track_href': row['track_href'],\n",
    "            'analysis_url': row['analysis_url'],\n",
    "            'duration_ms': int(row['duration_ms']),\n",
    "            'time_signature': int(row['time_signature'])\n",
    "        })\n",
    "\n",
    "df = pd.DataFrame(data1)\n",
    "print(df)\n",
    "\n",
    "print(reader['tempo'])"
   ]
  },
  {
   "cell_type": "code",
   "execution_count": null,
   "id": "6d26ced1",
   "metadata": {},
   "outputs": [],
   "source": [
    "import pandas as pd\n",
    "import csv\n",
    "df = pd.read_csv('ayyo.csv')\n",
    "print(df)\n",
    "\n",
    "data = []\n",
    "with open('ayyo.csv') as csvfile:\n",
    "    reader = csv.DictReader(csvfile)\n",
    "    for row in reader:\n",
    "        data.append({\n",
    "            'genre': row['genre'],\n",
    "            'danceability': float(row['danceability']),\n",
    "            'energy': float(row['energy']),\n",
    "            'key': int(row['key']),\n",
    "            'loudness': float(row['loudness']),\n",
    "            'mode': int(row['mode']),\n",
    "            'speechiness': float(row['speechiness']),\n",
    "            'acousticness': float(row['acousticness']),\n",
    "            'instrumentalness': float(row['instrumentalness']),\n",
    "            'liveness': float(row['liveness']),\n",
    "            'valence': float(row['valence']),\n",
    "            'tempo': float(row['tempo']),\n",
    "            'type': row['type'],\n",
    "            'id': row['id'],\n",
    "            'uri': row['uri'],\n",
    "            'track_href': row['track_href'],\n",
    "            'analysis_url': row['analysis_url'],\n",
    "            'duration_ms': int(row['duration_ms']),\n",
    "            'time_signature': int(row['time_signature'])\n",
    "        })\n",
    "\n",
    "df = pd.DataFrame(data)\n",
    "print(df)"
   ]
  },
  {
   "cell_type": "code",
   "execution_count": null,
   "id": "99f1d60d",
   "metadata": {},
   "outputs": [],
   "source": []
  }
 ],
 "metadata": {
  "kernelspec": {
   "display_name": "Python 3 (ipykernel)",
   "language": "python",
   "name": "python3"
  },
  "language_info": {
   "codemirror_mode": {
    "name": "ipython",
    "version": 3
   },
   "file_extension": ".py",
   "mimetype": "text/x-python",
   "name": "python",
   "nbconvert_exporter": "python",
   "pygments_lexer": "ipython3",
   "version": "3.9.12"
  }
 },
 "nbformat": 4,
 "nbformat_minor": 5
}
