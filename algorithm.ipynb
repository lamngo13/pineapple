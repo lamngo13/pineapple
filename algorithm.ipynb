{
 "cells": [
  {
   "cell_type": "code",
   "execution_count": 10,
   "id": "49e42d60",
   "metadata": {},
   "outputs": [
    {
     "name": "stdout",
     "output_type": "stream",
     "text": [
      "Empty DataFrame\n",
      "Columns: []\n",
      "Index: []\n"
     ]
    }
   ],
   "source": [
    "import pandas as pd\n",
    "import csv\n",
    "\n",
    "data = []\n",
    "with open('ayyo.csv') as csvfile:\n",
    "    reader = csv.DictReader(csvfile)\n",
    "    for row in reader:\n",
    "        data.append({\n",
    "            'genre': row['genre'],\n",
    "            'danceability': float(row['danceability']),\n",
    "            'energy': float(row['energy']),\n",
    "            'key': int(row['key']),\n",
    "            'loudness': float(row['loudness']),\n",
    "            'mode': int(row['mode']),\n",
    "            'speechiness': float(row['speechiness']),\n",
    "            'acousticness': float(row['acousticness']),\n",
    "            'instrumentalness': float(row['instrumentalness']),\n",
    "            'liveness': float(row['liveness']),\n",
    "            'valence': float(row['valence']),\n",
    "            'tempo': float(row['tempo']),\n",
    "            'type': row['type'],\n",
    "            'id': row['id'],\n",
    "            'uri': row['uri'],\n",
    "            'track_href': row['track_href'],\n",
    "            'analysis_url': row['analysis_url'],\n",
    "            'duration_ms': int(row['duration_ms']),\n",
    "            'time_signature': int(row['time_signature'])\n",
    "        })\n",
    "\n",
    "df = pd.DataFrame(data)\n",
    "print(df)"
   ]
  },
  {
   "cell_type": "code",
   "execution_count": 11,
   "id": "9ec7a748",
   "metadata": {},
   "outputs": [
    {
     "name": "stdout",
     "output_type": "stream",
     "text": [
      "Empty DataFrame\n",
      "Columns: []\n",
      "Index: []\n",
      "<csv.DictReader object at 0x000001F83EB38B20>\n"
     ]
    }
   ],
   "source": [
    "import pandas as pd\n",
    "import csv\n",
    "\n",
    "data = []\n",
    "with open('ayyo.csv') as csvfile:\n",
    "    reader = csv.DictReader(csvfile)\n",
    "    for row in reader:\n",
    "        data.append({\n",
    "            'genre': row['genre'],\n",
    "            'danceability': float(row['danceability']),\n",
    "            'energy': float(row['energy']),\n",
    "            'key': int(row['key']),\n",
    "            'loudness': float(row['loudness']),\n",
    "            'mode': int(row['mode']),\n",
    "            'speechiness': float(row['speechiness']),\n",
    "            'acousticness': float(row['acousticness']),\n",
    "            'instrumentalness': float(row['instrumentalness']),\n",
    "            'liveness': float(row['liveness']),\n",
    "            'valence': float(row['valence']),\n",
    "            'tempo': float(row['tempo']),\n",
    "            'type': row['type'],\n",
    "            'id': row['id'],\n",
    "            'uri': row['uri'],\n",
    "            'track_href': row['track_href'],\n",
    "            'analysis_url': row['analysis_url'],\n",
    "            'duration_ms': int(row['duration_ms']),\n",
    "            'time_signature': int(row['time_signature'])\n",
    "        })\n",
    "        \n",
    "data1 = []\n",
    "with open('ayyo.csv') as csvfile:\n",
    "    reader = csv.DictReader(csvfile)\n",
    "    for row in reader:\n",
    "        data1.append({\n",
    "            'genre': row['genre'],\n",
    "            'danceability': float(row['danceability']),\n",
    "            'energy': float(row['energy']),\n",
    "            'key': int(row['key']),\n",
    "            'loudness': float(row['loudness']),\n",
    "            'mode': int(row['mode']),\n",
    "            'speechiness': float(row['speechiness']),\n",
    "            'acousticness': float(row['acousticness']),\n",
    "            'instrumentalness': float(row['instrumentalness']),\n",
    "            'liveness': float(row['liveness']),\n",
    "            'valence': float(row['valence']),\n",
    "            'tempo': float(row['tempo']),\n",
    "            'type': row['type'],\n",
    "            'id': row['id'],\n",
    "            'uri': row['uri'],\n",
    "            'track_href': row['track_href'],\n",
    "            'analysis_url': row['analysis_url'],\n",
    "            'duration_ms': int(row['duration_ms']),\n",
    "            'time_signature': int(row['time_signature'])\n",
    "        })\n",
    "\n",
    "df = pd.DataFrame(data1)\n",
    "print(df)\n",
    "\n",
    "print(reader)"
   ]
  },
  {
   "cell_type": "code",
   "execution_count": null,
   "id": "0aec6466",
   "metadata": {},
   "outputs": [],
   "source": []
  }
 ],
 "metadata": {
  "kernelspec": {
   "display_name": "Python 3 (ipykernel)",
   "language": "python",
   "name": "python3"
  },
  "language_info": {
   "codemirror_mode": {
    "name": "ipython",
    "version": 3
   },
   "file_extension": ".py",
   "mimetype": "text/x-python",
   "name": "python",
   "nbconvert_exporter": "python",
   "pygments_lexer": "ipython3",
   "version": "3.9.12"
  }
 },
 "nbformat": 4,
 "nbformat_minor": 5
}
