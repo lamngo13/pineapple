{
 "cells": [
  {
   "cell_type": "code",
   "execution_count": 13,
   "id": "77eaf9d3",
   "metadata": {},
   "outputs": [
    {
     "name": "stdout",
     "output_type": "stream",
     "text": [
      "Empty DataFrame\n",
      "Columns: [{'audio_features': [{'genre': Rap,  'danceability': 0.543,  'energy': 0.974,  'key': 0,  'loudness': -6.525,  'mode': 1,  'speechiness': 0.0639,  'acousticness': 0.000735,  'instrumentalness': 0.92,  'liveness': 0.219,  'valence': 0.463,  'tempo': 170.001,  'type': 'audio_features',  'id': '17vJ4JDM5nsU4jxZgl1QSR',  'uri': 'spotify:track:17vJ4JDM5nsU4jxZgl1QSR',  'track_href': 'https://api.spotify.com/v1/tracks/17vJ4JDM5nsU4jxZgl1QSR',  'analysis_url': 'https://api.spotify.com/v1/audio-analysis/17vJ4JDM5nsU4jxZgl1QSR',  'duration_ms': 196235,  'time_signature': 4},  {'genre': Rap,  'danceability': 0.671,  'energy': 0.73,  'key': 7,  'loudness': -7.189,  'mode': 1.1,  'speechiness': 0.29,  'acousticness': 0.414,  'instrumentalness': 0,  'liveness': 0.107,  'valence': 0.248,  'tempo': 99.971,  'type': 'audio_features'.1,  'id': '3pzkWSjCdHKdzNEljKI4gz',  'uri': 'spotify:track:3pzkWSjCdHKdzNEljKI4gz',  'track_href': 'https://api.spotify.com/v1/tracks/3pzkWSjCdHKdzNEljKI4gz',  'analysis_url': 'https://api.spotify.com/v1/audio-analysis/3pzkWSjCdHKdzNEljKI4gz',  'duration_ms': 160800,  'time_signature': 4}.1,  {'genre': Rap.1,  'danceability': 0.767,  'energy': 0.444,  'key': 3,  'loudness': -13.671,  'mode': 1.2,  'speechiness': 0.557,  'acousticness': 0.941,  'instrumentalness': 0.000236,  'liveness': 0.144,  'valence': 0.527,  'tempo': 80.181,  'type': 'audio_features'.2,  'id': '7i6jHKsAShYpPTN4kS4WBW',  'uri': 'spotify:track:7i6jHKsAShYpPTN4kS4WBW',  'track_href': 'https://api.spotify.com/v1/tracks/7i6jHKsAShYpPTN4kS4WBW',  'analysis_url': 'https://api.spotify.com/v1/audio-analysis/7i6jHKsAShYpPTN4kS4WBW',  'duration_ms': 168066,  'time_signature': 4}.2,  {'genre': Rap.2,  'danceability': 0.858,  'energy': 0.339,  'key': 10,  'loudness': -15.847,  'mode': 0,  'speechiness': 0.0808,  'acousticness': 0.0558,  'instrumentalness': 0.297,  'liveness': 0.119,  'valence': 0.194,  'tempo': 158.968,  'type': 'audio_features'.3,  'id': '1Bt9doNZTAw34cuW2FxaZW',  'uri': 'spotify:track:1Bt9doNZTAw34cuW2FxaZW',  'track_href': 'https://api.spotify.com/v1/tracks/1Bt9doNZTAw34cuW2FxaZW',  'analysis_url': 'https://api.spotify.com/v1/audio-analysis/1Bt9doNZTAw34cuW2FxaZW',  'duration_ms': 193242,  'time_signature': 4}.3,  {'genre': Rap.3,  'danceability': 0.794,  'energy': 0.258,  'key': 8,  'loudness': -17.258,  'mode': 0.1,  'speechiness': 0.432,  'acousticness': 0.456,  'instrumentalness': 1.15e-05,  'liveness': 0.0848,  'valence': 0.393,  'tempo': 50.047,  'type': 'audio_features'.4,  'id': '6BjmeqZw3N9etV8Oa2CkH1',  'uri': 'spotify:track:6BjmeqZw3N9etV8Oa2CkH1',  'track_href': 'https://api.spotify.com/v1/tracks/6BjmeqZw3N9etV8Oa2CkH1',  'analysis_url': 'https://api.spotify.com/v1/audio-analysis/6BjmeqZw3N9etV8Oa2CkH1',  'duration_ms': 71444,  'time_signature': 4}.4,  {'genre': Rap.4,  'danceability': 0.561,  'energy': 0.402,  'key': 4,  'loudness': -13.542, ...]\n",
      "Index: []\n",
      "\n",
      "[0 rows x 380 columns]\n",
      "Empty DataFrame\n",
      "Columns: []\n",
      "Index: []\n"
     ]
    }
   ],
   "source": [
    "import pandas as pd\n",
    "import csv\n",
    "df = pd.read_csv('ayyo.csv')\n",
    "print(df)\n",
    "\n",
    "data = []\n",
    "with open('ayyo.csv') as csvfile:\n",
    "    reader = csv.DictReader(csvfile)\n",
    "    for row in reader:\n",
    "        data.append({\n",
    "            'genre': row['genre'],\n",
    "            'danceability': float(row['danceability']),\n",
    "            'energy': float(row['energy']),\n",
    "            'key': int(row['key']),\n",
    "            'loudness': float(row['loudness']),\n",
    "            'mode': int(row['mode']),\n",
    "            'speechiness': float(row['speechiness']),\n",
    "            'acousticness': float(row['acousticness']),\n",
    "            'instrumentalness': float(row['instrumentalness']),\n",
    "            'liveness': float(row['liveness']),\n",
    "            'valence': float(row['valence']),\n",
    "            'tempo': float(row['tempo']),\n",
    "            'type': row['type'],\n",
    "            'id': row['id'],\n",
    "            'uri': row['uri'],\n",
    "            'track_href': row['track_href'],\n",
    "            'analysis_url': row['analysis_url'],\n",
    "            'duration_ms': int(row['duration_ms']),\n",
    "            'time_signature': int(row['time_signature'])\n",
    "        })\n",
    "\n",
    "df = pd.DataFrame(data)\n",
    "print(df)"
   ]
  },
  {
   "cell_type": "code",
   "execution_count": 12,
   "id": "6e16096d",
   "metadata": {},
   "outputs": [
    {
     "name": "stdout",
     "output_type": "stream",
     "text": [
      "Empty DataFrame\n",
      "Columns: []\n",
      "Index: []\n"
     ]
    },
    {
     "ename": "TypeError",
     "evalue": "'DictReader' object is not subscriptable",
     "output_type": "error",
     "traceback": [
      "\u001b[1;31m---------------------------------------------------------------------------\u001b[0m",
      "\u001b[1;31mTypeError\u001b[0m                                 Traceback (most recent call last)",
      "Input \u001b[1;32mIn [12]\u001b[0m, in \u001b[0;36m<cell line: 59>\u001b[1;34m()\u001b[0m\n\u001b[0;32m     56\u001b[0m df \u001b[38;5;241m=\u001b[39m pd\u001b[38;5;241m.\u001b[39mDataFrame(data1)\n\u001b[0;32m     57\u001b[0m \u001b[38;5;28mprint\u001b[39m(df)\n\u001b[1;32m---> 59\u001b[0m \u001b[38;5;28mprint\u001b[39m(\u001b[43mreader\u001b[49m\u001b[43m[\u001b[49m\u001b[38;5;124;43m'\u001b[39;49m\u001b[38;5;124;43mtempo\u001b[39;49m\u001b[38;5;124;43m'\u001b[39;49m\u001b[43m]\u001b[49m)\n",
      "\u001b[1;31mTypeError\u001b[0m: 'DictReader' object is not subscriptable"
     ]
    }
   ],
   "source": [
    "import pandas as pd\n",
    "import csv\n",
    "\n",
    "data = []\n",
    "with open('ayyo.csv') as csvfile:\n",
    "    reader = csv.DictReader(csvfile)\n",
    "    for row in reader:\n",
    "        data.append({\n",
    "            'genre': row['genre'],\n",
    "            'danceability': float(row['danceability']),\n",
    "            'energy': float(row['energy']),\n",
    "            'key': int(row['key']),\n",
    "            'loudness': float(row['loudness']),\n",
    "            'mode': int(row['mode']),\n",
    "            'speechiness': float(row['speechiness']),\n",
    "            'acousticness': float(row['acousticness']),\n",
    "            'instrumentalness': float(row['instrumentalness']),\n",
    "            'liveness': float(row['liveness']),\n",
    "            'valence': float(row['valence']),\n",
    "            'tempo': float(row['tempo']),\n",
    "            'type': row['type'],\n",
    "            'id': row['id'],\n",
    "            'uri': row['uri'],\n",
    "            'track_href': row['track_href'],\n",
    "            'analysis_url': row['analysis_url'],\n",
    "            'duration_ms': int(row['duration_ms']),\n",
    "            'time_signature': int(row['time_signature'])\n",
    "        })\n",
    "        \n",
    "data1 = []\n",
    "with open('ayyo.csv') as csvfile:\n",
    "    reader = csv.DictReader(csvfile)\n",
    "    for row in reader:\n",
    "        data1.append({\n",
    "            'genre': row['genre'],\n",
    "            'danceability': float(row['danceability']),\n",
    "            'energy': float(row['energy']),\n",
    "            'key': int(row['key']),\n",
    "            'loudness': float(row['loudness']),\n",
    "            'mode': int(row['mode']),\n",
    "            'speechiness': float(row['speechiness']),\n",
    "            'acousticness': float(row['acousticness']),\n",
    "            'instrumentalness': float(row['instrumentalness']),\n",
    "            'liveness': float(row['liveness']),\n",
    "            'valence': float(row['valence']),\n",
    "            'tempo': float(row['tempo']),\n",
    "            'type': row['type'],\n",
    "            'id': row['id'],\n",
    "            'uri': row['uri'],\n",
    "            'track_href': row['track_href'],\n",
    "            'analysis_url': row['analysis_url'],\n",
    "            'duration_ms': int(row['duration_ms']),\n",
    "            'time_signature': int(row['time_signature'])\n",
    "        })\n",
    "\n",
    "df = pd.DataFrame(data1)\n",
    "print(df)\n",
    "\n",
    "print(reader['tempo'])"
   ]
  },
  {
   "cell_type": "code",
   "execution_count": null,
   "id": "49d42d59",
   "metadata": {},
   "outputs": [],
   "source": []
  }
 ],
 "metadata": {
  "kernelspec": {
   "display_name": "Python 3 (ipykernel)",
   "language": "python",
   "name": "python3"
  },
  "language_info": {
   "codemirror_mode": {
    "name": "ipython",
    "version": 3
   },
   "file_extension": ".py",
   "mimetype": "text/x-python",
   "name": "python",
   "nbconvert_exporter": "python",
   "pygments_lexer": "ipython3",
   "version": "3.9.12"
  }
 },
 "nbformat": 4,
 "nbformat_minor": 5
}
