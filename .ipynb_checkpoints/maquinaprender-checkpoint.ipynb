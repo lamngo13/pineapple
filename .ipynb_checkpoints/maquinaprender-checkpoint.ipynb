{
 "cells": [
  {
   "cell_type": "code",
   "execution_count": null,
   "id": "cb895991",
   "metadata": {},
   "outputs": [],
   "source": []
  },
  {
   "cell_type": "code",
   "execution_count": 3,
   "id": "9970069f",
   "metadata": {},
   "outputs": [
    {
     "name": "stdout",
     "output_type": "stream",
     "text": [
      "Testing dataset:\n",
      "108     Pop\n",
      "67     Rock\n",
      "31     Rock\n",
      "119     Pop\n",
      "42     Rock\n",
      "12      Rap\n",
      "81     Rock\n",
      "69     Rock\n",
      "104     Pop\n",
      "109     Pop\n",
      "113     Pop\n",
      "56     Rock\n",
      "66     Rock\n",
      "19      Rap\n",
      "132     Pop\n",
      "78     Rock\n",
      "11      Rap\n",
      "27     Rock\n",
      "127     Pop\n",
      "110     Pop\n",
      "36     Rock\n",
      "118     Pop\n",
      "60     Rock\n",
      "4       Rap\n",
      "131     Pop\n",
      "26     Rock\n",
      "138     Pop\n",
      "96     Rock\n",
      "Name: genre, dtype: object\n",
      "Predicted genres:\n",
      "['Pop' 'Rock' 'Rock' 'Pop' 'Rock' 'Rap' 'Rock' 'Rock' 'Pop' 'Pop' 'Rock'\n",
      " 'Rock' 'Rock' 'Rap' 'Pop' 'Rock' 'Rap' 'Rock' 'Pop' 'Rock' 'Pop' 'Rock'\n",
      " 'Rock' 'Rap' 'Rap' 'Rock' 'Pop' 'Rock']\n",
      "Accuracy: 0.6428571428571429\n"
     ]
    }
   ],
   "source": [
    "import pandas as pd\n",
    "import numpy as np\n",
    "from sklearn.model_selection import train_test_split\n",
    "from sklearn.preprocessing import LabelBinarizer\n",
    "from sklearn.ensemble import RandomForestClassifier\n",
    "import json\n",
    "\n",
    "with open('funbigfile.json') as f:\n",
    "    data = json.load(f)\n",
    "\n",
    "df = pd.json_normalize(data['bruh'])\n",
    "df = df.drop(['type', 'uri', 'track_href', 'analysis_url','time_signature', 'duration_ms'], axis=1)\n",
    "#print(df)\n",
    "\n",
    "# Split the data into training and testing sets\n",
    "X_train, X_test, y_train, y_test = train_test_split(df.drop('genre', axis=1), df['genre'], test_size=0.2, random_state=42)\n",
    "\n",
    "# Encode the target variable\n",
    "lb = LabelBinarizer()\n",
    "y_train_encoded = lb.fit_transform(y_train)\n",
    "y_test_encoded = lb.transform(y_test)\n",
    "\n",
    "# Define the features to be used for training\n",
    "features = ['acousticness', 'danceability', 'energy', 'instrumentalness', 'key', 'liveness', 'loudness', 'mode', 'speechiness', 'tempo', 'valence']\n",
    "#features = ['acousticness', 'danceability', 'energy', 'instrumentalness', 'key', 'liveness', 'speechiness', 'tempo', 'valence']\n",
    "\n",
    "# Create the feature matrix\n",
    "X_train = X_train[features]\n",
    "X_test = X_test[features]\n",
    "\n",
    "# Train a random forest classifier\n",
    "rf = RandomForestClassifier(n_estimators=100, random_state=42)\n",
    "rf.fit(X_train, y_train_encoded)\n",
    "\n",
    "#debugging stuff:\n",
    "print(\"Testing dataset:\")\n",
    "#lowkey don't need this print(X_test)\n",
    "print(y_test)\n",
    "#more debugging stuff \n",
    "y_pred = rf.predict(X_test[features])\n",
    "print(\"Predicted genres:\")\n",
    "print(lb.inverse_transform(y_pred))\n",
    "\n",
    "\n",
    "# Evaluate the performance of the model on the test data\n",
    "accuracy = rf.score(X_test, y_test_encoded)\n",
    "print(\"Accuracy:\", accuracy)\n",
    "\n",
    "#with open('smallfile.json') as g:\n",
    "#    new_data = json.load(g)\n",
    "\n",
    "#dff = pd.json_normalize(new_data['bruh'])  # Load new JSON data\n",
    "#dff = dff.drop(['type', 'uri', 'track_href', 'analysis_url','time_signature', 'duration_ms'], axis=1)"
   ]
  },
  {
   "cell_type": "code",
   "execution_count": null,
   "id": "07b61732",
   "metadata": {},
   "outputs": [],
   "source": []
  },
  {
   "cell_type": "code",
   "execution_count": null,
   "id": "22a0b20c",
   "metadata": {},
   "outputs": [],
   "source": []
  },
  {
   "cell_type": "code",
   "execution_count": null,
   "id": "8d841476",
   "metadata": {},
   "outputs": [],
   "source": []
  },
  {
   "cell_type": "code",
   "execution_count": null,
   "id": "d1f7dc80",
   "metadata": {},
   "outputs": [],
   "source": []
  },
  {
   "cell_type": "code",
   "execution_count": null,
   "id": "de8a6fe0",
   "metadata": {},
   "outputs": [],
   "source": []
  },
  {
   "cell_type": "code",
   "execution_count": null,
   "id": "25faae82",
   "metadata": {},
   "outputs": [],
   "source": []
  },
  {
   "cell_type": "code",
   "execution_count": null,
   "id": "36ff641a",
   "metadata": {},
   "outputs": [],
   "source": []
  },
  {
   "cell_type": "code",
   "execution_count": null,
   "id": "8cd71f76",
   "metadata": {},
   "outputs": [],
   "source": []
  },
  {
   "cell_type": "code",
   "execution_count": null,
   "id": "1b178523",
   "metadata": {},
   "outputs": [],
   "source": []
  }
 ],
 "metadata": {
  "kernelspec": {
   "display_name": "Python 3 (ipykernel)",
   "language": "python",
   "name": "python3"
  },
  "language_info": {
   "codemirror_mode": {
    "name": "ipython",
    "version": 3
   },
   "file_extension": ".py",
   "mimetype": "text/x-python",
   "name": "python",
   "nbconvert_exporter": "python",
   "pygments_lexer": "ipython3",
   "version": "3.9.12"
  }
 },
 "nbformat": 4,
 "nbformat_minor": 5
}
